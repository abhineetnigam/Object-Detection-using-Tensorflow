{
 "cells": [
  {
   "cell_type": "markdown",
   "metadata": {},
   "source": [
    "# 1. Import Dependencies"
   ]
  },
  {
   "cell_type": "code",
   "execution_count": 1,
   "metadata": {},
   "outputs": [
    {
     "name": "stdout",
     "output_type": "stream",
     "text": [
      "Requirement already satisfied: opencv-python in c:\\users\\abhin\\course\\tensorflow_object_detection\\tfodcourse\\tfod\\lib\\site-packages (4.5.3.56)\n",
      "Requirement already satisfied: numpy>=1.19.3 in c:\\users\\abhin\\course\\tensorflow_object_detection\\tfodcourse\\tfod\\lib\\site-packages (from opencv-python) (1.21.2)\n"
     ]
    }
   ],
   "source": [
    "!pip install opencv-python"
   ]
  },
  {
   "cell_type": "code",
   "execution_count": 2,
   "metadata": {},
   "outputs": [],
   "source": [
    "# Import opencv\n",
    "import cv2 \n",
    "\n",
    "# Import uuid\n",
    "import uuid\n",
    "\n",
    "# Import Operating System\n",
    "import os\n",
    "\n",
    "# Import time\n",
    "import time"
   ]
  },
  {
   "cell_type": "markdown",
   "metadata": {},
   "source": [
    "# 2. Define Images to Collect"
   ]
  },
  {
   "cell_type": "code",
   "execution_count": 3,
   "metadata": {},
   "outputs": [],
   "source": [
    "labels = ['thumbsup', 'thumbsdown', 'thankyou', 'livelong']\n",
    "number_imgs = 5"
   ]
  },
  {
   "cell_type": "markdown",
   "metadata": {},
   "source": [
    "# 3. Setup Folders "
   ]
  },
  {
   "cell_type": "code",
   "execution_count": 4,
   "metadata": {},
   "outputs": [],
   "source": [
    "IMAGES_PATH = os.path.join('Tensorflow', 'workspace', 'images', 'collectedimages')"
   ]
  },
  {
   "cell_type": "code",
   "execution_count": 5,
   "metadata": {},
   "outputs": [],
   "source": [
    "if not os.path.exists(IMAGES_PATH):\n",
    "    if os.name == 'posix':\n",
    "        !mkdir -p {IMAGES_PATH}\n",
    "    if os.name == 'nt':\n",
    "         !mkdir {IMAGES_PATH}\n",
    "for label in labels:\n",
    "    path = os.path.join(IMAGES_PATH, label)\n",
    "    if not os.path.exists(path):\n",
    "        !mkdir {path}"
   ]
  },
  {
   "cell_type": "markdown",
   "metadata": {},
   "source": [
    "# 4. Capture Images"
   ]
  },
  {
   "cell_type": "code",
   "execution_count": 7,
   "metadata": {},
   "outputs": [
    {
     "name": "stdout",
     "output_type": "stream",
     "text": [
      "Collecting images for thumbsup\n",
      "Collecting image 0\n",
      "Collecting image 1\n",
      "Collecting image 2\n",
      "Collecting image 3\n",
      "Collecting image 4\n",
      "Collecting images for thumbsdown\n",
      "Collecting image 0\n",
      "Collecting image 1\n",
      "Collecting image 2\n",
      "Collecting image 3\n",
      "Collecting image 4\n",
      "Collecting images for thankyou\n",
      "Collecting image 0\n",
      "Collecting image 1\n",
      "Collecting image 2\n",
      "Collecting image 3\n",
      "Collecting image 4\n",
      "Collecting images for livelong\n",
      "Collecting image 0\n",
      "Collecting image 1\n",
      "Collecting image 2\n",
      "Collecting image 3\n",
      "Collecting image 4\n"
     ]
    }
   ],
   "source": [
    "for label in labels:\n",
    "    cap = cv2.VideoCapture(0)\n",
    "    print('Collecting images for {}'.format(label))\n",
    "    time.sleep(5)\n",
    "    for imgnum in range(number_imgs):\n",
    "        print('Collecting image {}'.format(imgnum))\n",
    "        ret, frame = cap.read()\n",
    "        imgname = os.path.join(IMAGES_PATH,label,label+'.'+'{}.jpg'.format(str(uuid.uuid1())))\n",
    "        cv2.imwrite(imgname, frame)\n",
    "        cv2.imshow('frame', frame)\n",
    "        time.sleep(2)\n",
    "\n",
    "        if cv2.waitKey(1) & 0xFF == ord('q'):\n",
    "            break\n",
    "cap.release()\n",
    "cv2.destroyAllWindows()"
   ]
  },
  {
   "cell_type": "markdown",
   "metadata": {},
   "source": [
    "# 5. Image Labelling"
   ]
  },
  {
   "cell_type": "code",
   "execution_count": 8,
   "metadata": {},
   "outputs": [
    {
     "name": "stdout",
     "output_type": "stream",
     "text": [
      "Collecting pyqt5\n",
      "  Downloading PyQt5-5.15.4-cp36.cp37.cp38.cp39-none-win_amd64.whl (6.8 MB)\n",
      "Collecting lxml\n",
      "  Downloading lxml-4.6.3-cp39-cp39-win_amd64.whl (3.5 MB)\n",
      "Collecting PyQt5-Qt5>=5.15\n",
      "  Downloading PyQt5_Qt5-5.15.2-py3-none-win_amd64.whl (50.1 MB)\n",
      "Collecting PyQt5-sip<13,>=12.8\n",
      "  Downloading PyQt5_sip-12.9.0-cp39-cp39-win_amd64.whl (63 kB)\n",
      "Installing collected packages: PyQt5-sip, PyQt5-Qt5, pyqt5, lxml\n",
      "Successfully installed PyQt5-Qt5-5.15.2 PyQt5-sip-12.9.0 lxml-4.6.3 pyqt5-5.15.4\n"
     ]
    }
   ],
   "source": [
    "!pip install --upgrade pyqt5 lxml"
   ]
  },
  {
   "cell_type": "code",
   "execution_count": 10,
   "metadata": {},
   "outputs": [],
   "source": [
    "LABELIMG_PATH = os.path.join('Tensorflow', 'labelimg')"
   ]
  },
  {
   "cell_type": "code",
   "execution_count": 11,
   "metadata": {},
   "outputs": [
    {
     "name": "stderr",
     "output_type": "stream",
     "text": [
      "Cloning into 'Tensorflow\\labelimg'...\n"
     ]
    }
   ],
   "source": [
    "if not os.path.exists(LABELIMG_PATH):\n",
    "    !mkdir {LABELIMG_PATH}\n",
    "    !git clone https://github.com/tzutalin/labelImg {LABELIMG_PATH}"
   ]
  },
  {
   "cell_type": "code",
   "execution_count": 12,
   "metadata": {},
   "outputs": [],
   "source": [
    "if os.name == 'posix':\n",
    "    !cd {LABELIMG_PATH} && make qt5py3\n",
    "if os.name =='nt':\n",
    "    !cd {LABELIMG_PATH} && pyrcc5 -o libs/resources.py resources.qrc"
   ]
  },
  {
   "cell_type": "code",
   "execution_count": 14,
   "metadata": {},
   "outputs": [
    {
     "name": "stdout",
     "output_type": "stream",
     "text": [
      "Cancel creation.\n",
      "Image:C:\\Users\\abhin\\Course\\Tensorflow_Object_Detection\\TFODCourse\\Tensorflow\\workspace\\images\\collectedimages\\livelong\\livelong.8ac44218-2f8b-11ec-8ddf-f654e26c2621.jpg -> Annotation:C:/Users/abhin/Course/Tensorflow_Object_Detection/TFODCourse/Tensorflow/workspace/images/collectedimages/livelong/livelong.8ac44218-2f8b-11ec-8ddf-f654e26c2621.xml\n",
      "Image:C:\\Users\\abhin\\Course\\Tensorflow_Object_Detection\\TFODCourse\\Tensorflow\\workspace\\images\\collectedimages\\livelong\\livelong.85e64501-2f8b-11ec-a926-f654e26c2621.jpg -> Annotation:C:/Users/abhin/Course/Tensorflow_Object_Detection/TFODCourse/Tensorflow/workspace/images/collectedimages/livelong/livelong.85e64501-2f8b-11ec-a926-f654e26c2621.xml\n",
      "Image:C:\\Users\\abhin\\Course\\Tensorflow_Object_Detection\\TFODCourse\\Tensorflow\\workspace\\images\\collectedimages\\livelong\\livelong.898c630e-2f8b-11ec-bdef-f654e26c2621.jpg -> Annotation:C:/Users/abhin/Course/Tensorflow_Object_Detection/TFODCourse/Tensorflow/workspace/images/collectedimages/livelong/livelong.898c630e-2f8b-11ec-bdef-f654e26c2621.xml\n",
      "Image:C:\\Users\\abhin\\Course\\Tensorflow_Object_Detection\\TFODCourse\\Tensorflow\\workspace\\images\\collectedimages\\livelong\\livelong.8855f38a-2f8b-11ec-89ee-f654e26c2621.jpg -> Annotation:C:/Users/abhin/Course/Tensorflow_Object_Detection/TFODCourse/Tensorflow/workspace/images/collectedimages/livelong/livelong.8855f38a-2f8b-11ec-89ee-f654e26c2621.xml\n",
      "Image:C:\\Users\\abhin\\Course\\Tensorflow_Object_Detection\\TFODCourse\\Tensorflow\\workspace\\images\\collectedimages\\livelong\\livelong.87204cae-2f8b-11ec-ba63-f654e26c2621.jpg -> Annotation:C:/Users/abhin/Course/Tensorflow_Object_Detection/TFODCourse/Tensorflow/workspace/images/collectedimages/livelong/livelong.87204cae-2f8b-11ec-ba63-f654e26c2621.xml\n",
      "Image:C:\\Users\\abhin\\Course\\Tensorflow_Object_Detection\\TFODCourse\\Tensorflow\\workspace\\images\\collectedimages\\thankyou\\thankyou.7aed241d-2f8b-11ec-94a6-f654e26c2621.jpg -> Annotation:C:/Users/abhin/Course/Tensorflow_Object_Detection/TFODCourse/Tensorflow/workspace/images/collectedimages/thankyou/thankyou.7aed241d-2f8b-11ec-94a6-f654e26c2621.xml\n",
      "Image:C:\\Users\\abhin\\Course\\Tensorflow_Object_Detection\\TFODCourse\\Tensorflow\\workspace\\images\\collectedimages\\thankyou\\thankyou.7c26362b-2f8b-11ec-a543-f654e26c2621.jpg -> Annotation:C:/Users/abhin/Course/Tensorflow_Object_Detection/TFODCourse/Tensorflow/workspace/images/collectedimages/thankyou/thankyou.7c26362b-2f8b-11ec-a543-f654e26c2621.xml\n",
      "Image:C:\\Users\\abhin\\Course\\Tensorflow_Object_Detection\\TFODCourse\\Tensorflow\\workspace\\images\\collectedimages\\thankyou\\thankyou.7fce149c-2f8b-11ec-878a-f654e26c2621.jpg -> Annotation:C:/Users/abhin/Course/Tensorflow_Object_Detection/TFODCourse/Tensorflow/workspace/images/collectedimages/thankyou/thankyou.7fce149c-2f8b-11ec-878a-f654e26c2621.xml\n",
      "Image:C:\\Users\\abhin\\Course\\Tensorflow_Object_Detection\\TFODCourse\\Tensorflow\\workspace\\images\\collectedimages\\thankyou\\thankyou.7d5cb461-2f8b-11ec-9f89-f654e26c2621.jpg -> Annotation:C:/Users/abhin/Course/Tensorflow_Object_Detection/TFODCourse/Tensorflow/workspace/images/collectedimages/thankyou/thankyou.7d5cb461-2f8b-11ec-9f89-f654e26c2621.xml\n",
      "Image:C:\\Users\\abhin\\Course\\Tensorflow_Object_Detection\\TFODCourse\\Tensorflow\\workspace\\images\\collectedimages\\thankyou\\thankyou.7e95b343-2f8b-11ec-922f-f654e26c2621.jpg -> Annotation:C:/Users/abhin/Course/Tensorflow_Object_Detection/TFODCourse/Tensorflow/workspace/images/collectedimages/thankyou/thankyou.7e95b343-2f8b-11ec-922f-f654e26c2621.xml\n",
      "Image:C:\\Users\\abhin\\Course\\Tensorflow_Object_Detection\\TFODCourse\\Tensorflow\\workspace\\images\\collectedimages\\thumbsdown\\thumbsdown.73b5d16e-2f8b-11ec-bc95-f654e26c2621.jpg -> Annotation:C:/Users/abhin/Course/Tensorflow_Object_Detection/TFODCourse/Tensorflow/workspace/images/collectedimages/thumbsdown/thumbsdown.73b5d16e-2f8b-11ec-bc95-f654e26c2621.xml\n",
      "Image:C:\\Users\\abhin\\Course\\Tensorflow_Object_Detection\\TFODCourse\\Tensorflow\\workspace\\images\\collectedimages\\thumbsdown\\thumbsdown.74edee69-2f8b-11ec-9778-f654e26c2621.jpg -> Annotation:C:/Users/abhin/Course/Tensorflow_Object_Detection/TFODCourse/Tensorflow/workspace/images/collectedimages/thumbsdown/thumbsdown.74edee69-2f8b-11ec-9778-f654e26c2621.xml\n",
      "Image:C:\\Users\\abhin\\Course\\Tensorflow_Object_Detection\\TFODCourse\\Tensorflow\\workspace\\images\\collectedimages\\thumbsdown\\thumbsdown.714bafa7-2f8b-11ec-8911-f654e26c2621.jpg -> Annotation:C:/Users/abhin/Course/Tensorflow_Object_Detection/TFODCourse/Tensorflow/workspace/images/collectedimages/thumbsdown/thumbsdown.714bafa7-2f8b-11ec-8911-f654e26c2621.xml\n",
      "Image:C:\\Users\\abhin\\Course\\Tensorflow_Object_Detection\\TFODCourse\\Tensorflow\\workspace\\images\\collectedimages\\thumbsdown\\thumbsdown.727f41fd-2f8b-11ec-89fd-f654e26c2621.jpg -> Annotation:C:/Users/abhin/Course/Tensorflow_Object_Detection/TFODCourse/Tensorflow/workspace/images/collectedimages/thumbsdown/thumbsdown.727f41fd-2f8b-11ec-89fd-f654e26c2621.xml\n",
      "Image:C:\\Users\\abhin\\Course\\Tensorflow_Object_Detection\\TFODCourse\\Tensorflow\\workspace\\images\\collectedimages\\thumbsdown\\thumbsdown.7014e0ee-2f8b-11ec-a3ff-f654e26c2621.jpg -> Annotation:C:/Users/abhin/Course/Tensorflow_Object_Detection/TFODCourse/Tensorflow/workspace/images/collectedimages/thumbsdown/thumbsdown.7014e0ee-2f8b-11ec-a3ff-f654e26c2621.xml\n",
      "Image:C:\\Users\\abhin\\Course\\Tensorflow_Object_Detection\\TFODCourse\\Tensorflow\\workspace\\images\\collectedimages\\thumbsup\\thumbsup.68bc7c55-2f8b-11ec-b2ff-f654e26c2621.jpg -> Annotation:C:/Users/abhin/Course/Tensorflow_Object_Detection/TFODCourse/Tensorflow/workspace/images/collectedimages/thumbsup/thumbsup.68bc7c55-2f8b-11ec-b2ff-f654e26c2621.xml\n",
      "Image:C:\\Users\\abhin\\Course\\Tensorflow_Object_Detection\\TFODCourse\\Tensorflow\\workspace\\images\\collectedimages\\thumbsup\\thumbsup.69f2c256-2f8b-11ec-a079-f654e26c2621.jpg -> Annotation:C:/Users/abhin/Course/Tensorflow_Object_Detection/TFODCourse/Tensorflow/workspace/images/collectedimages/thumbsup/thumbsup.69f2c256-2f8b-11ec-a079-f654e26c2621.xml\n",
      "Image:C:\\Users\\abhin\\Course\\Tensorflow_Object_Detection\\TFODCourse\\Tensorflow\\workspace\\images\\collectedimages\\thumbsup\\thumbsup.650aa269-2f8b-11ec-a40e-f654e26c2621.jpg -> Annotation:C:/Users/abhin/Course/Tensorflow_Object_Detection/TFODCourse/Tensorflow/workspace/images/collectedimages/thumbsup/thumbsup.650aa269-2f8b-11ec-a40e-f654e26c2621.xml\n",
      "Image:C:\\Users\\abhin\\Course\\Tensorflow_Object_Detection\\TFODCourse\\Tensorflow\\workspace\\images\\collectedimages\\thumbsup\\thumbsup.6785ceb4-2f8b-11ec-af45-f654e26c2621.jpg -> Annotation:C:/Users/abhin/Course/Tensorflow_Object_Detection/TFODCourse/Tensorflow/workspace/images/collectedimages/thumbsup/thumbsup.6785ceb4-2f8b-11ec-af45-f654e26c2621.xml\n",
      "Image:C:\\Users\\abhin\\Course\\Tensorflow_Object_Detection\\TFODCourse\\Tensorflow\\workspace\\images\\collectedimages\\thumbsup\\thumbsup.66506bff-2f8b-11ec-a51d-f654e26c2621.jpg -> Annotation:C:/Users/abhin/Course/Tensorflow_Object_Detection/TFODCourse/Tensorflow/workspace/images/collectedimages/thumbsup/thumbsup.66506bff-2f8b-11ec-a51d-f654e26c2621.xml\n"
     ]
    }
   ],
   "source": [
    "!cd {LABELIMG_PATH} && python labelImg.py"
   ]
  },
  {
   "cell_type": "markdown",
   "metadata": {},
   "source": [
    "# 6. Move them into a Training and Testing Partition"
   ]
  },
  {
   "cell_type": "markdown",
   "metadata": {},
   "source": [
    "# OPTIONAL - 7. Compress them for Colab Training"
   ]
  },
  {
   "cell_type": "code",
   "execution_count": 20,
   "metadata": {},
   "outputs": [],
   "source": [
    "TRAIN_PATH = os.path.join('Tensorflow', 'workspace', 'images', 'train')\n",
    "TEST_PATH = os.path.join('Tensorflow', 'workspace', 'images', 'test')\n",
    "ARCHIVE_PATH = os.path.join('Tensorflow', 'workspace', 'images', 'archive.tar.gz')"
   ]
  },
  {
   "cell_type": "code",
   "execution_count": 21,
   "metadata": {},
   "outputs": [],
   "source": [
    "!tar -czf {ARCHIVE_PATH} {TRAIN_PATH} {TEST_PATH}"
   ]
  },
  {
   "cell_type": "code",
   "execution_count": null,
   "metadata": {},
   "outputs": [],
   "source": []
  }
 ],
 "metadata": {
  "kernelspec": {
   "display_name": "tfod",
   "language": "python",
   "name": "tfod"
  },
  "language_info": {
   "codemirror_mode": {
    "name": "ipython",
    "version": 3
   },
   "file_extension": ".py",
   "mimetype": "text/x-python",
   "name": "python",
   "nbconvert_exporter": "python",
   "pygments_lexer": "ipython3",
   "version": "3.9.5"
  }
 },
 "nbformat": 4,
 "nbformat_minor": 2
}
